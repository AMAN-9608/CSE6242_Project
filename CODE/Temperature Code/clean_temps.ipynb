{
 "cells": [
  {
   "cell_type": "code",
   "execution_count": 1,
   "id": "vanilla-cornwall",
   "metadata": {},
   "outputs": [],
   "source": [
    "import pandas as pd"
   ]
  },
  {
   "cell_type": "code",
   "execution_count": 2,
   "id": "lonely-engineering",
   "metadata": {},
   "outputs": [],
   "source": [
    "## Data for https://www.ncei.noaa.gov/pub/data/cirs/climdiv/climdiv-tmaxcy-v1.0.0-20210406\n",
    "## FIPS data can be found at https://www2.census.gov/programs-surveys/popest/geographies/2018/all-geocodes-v2018.xlsx"
   ]
  },
  {
   "cell_type": "code",
   "execution_count": 3,
   "id": "moved-algeria",
   "metadata": {},
   "outputs": [],
   "source": [
    "## Open temp file and read lines.\n",
    "with open('county_max_temp.txt') as f:\n",
    "    lines = f.readlines()\n",
    "    \n",
    "f.close()"
   ]
  },
  {
   "cell_type": "code",
   "execution_count": 4,
   "id": "balanced-tours",
   "metadata": {},
   "outputs": [],
   "source": [
    "## Strip white space and split into columns.\n",
    "df = []\n",
    "for line in lines:\n",
    "    df.append(line.strip().split())"
   ]
  },
  {
   "cell_type": "code",
   "execution_count": 5,
   "id": "prompt-elder",
   "metadata": {},
   "outputs": [],
   "source": [
    "## Convert to dataframe.\n",
    "df = pd.DataFrame(df)"
   ]
  },
  {
   "cell_type": "code",
   "execution_count": 6,
   "id": "included-disclosure",
   "metadata": {},
   "outputs": [],
   "source": [
    "## Label columns\n",
    "df.columns = ['ID', 'Jan', 'Feb', 'Mar', 'Apr', 'May', 'Jun', 'Jul', 'Aug', 'Sep', 'Oct', 'Nov', 'Dec']"
   ]
  },
  {
   "cell_type": "code",
   "execution_count": 7,
   "id": "statutory-municipality",
   "metadata": {},
   "outputs": [],
   "source": [
    "## Extract year from ID string\n",
    "df['Year'] = df['ID'].str[-4:]"
   ]
  },
  {
   "cell_type": "code",
   "execution_count": 8,
   "id": "convinced-boost",
   "metadata": {},
   "outputs": [],
   "source": [
    "## Extract FIPS code\n",
    "df['FIPS'] = df['ID'].str[:5]"
   ]
  },
  {
   "cell_type": "code",
   "execution_count": 25,
   "id": "processed-budapest",
   "metadata": {},
   "outputs": [],
   "source": [
    "## Extract state ID\n",
    "df['State_Code'] = df['ID'].str[:2]\n"
   ]
  },
  {
   "cell_type": "code",
   "execution_count": 10,
   "id": "spiritual-driver",
   "metadata": {},
   "outputs": [],
   "source": [
    "# ## Open and read FIPS translator.\n",
    "# with open('fips_map.txt') as f:\n",
    "#     lines1 = f.readlines()\n",
    "    \n",
    "# f.close()"
   ]
  },
  {
   "cell_type": "code",
   "execution_count": 11,
   "id": "dedicated-savannah",
   "metadata": {},
   "outputs": [],
   "source": [
    "## Convert FIPS column to string type\n",
    "df['FIPS'] = df['FIPS'].astype('string')"
   ]
  },
  {
   "cell_type": "code",
   "execution_count": 12,
   "id": "neural-decrease",
   "metadata": {},
   "outputs": [],
   "source": [
    "## Read FIPS map as pandas dataframe.\n",
    "county_map = pd.read_csv('fips_map.txt', sep = '\\t', dtype={'FIPS': 'string'} )"
   ]
  },
  {
   "cell_type": "code",
   "execution_count": 13,
   "id": "applied-norway",
   "metadata": {},
   "outputs": [],
   "source": [
    "## Merge temp and FIPS map.\n",
    "combined = df.merge(county_map, on = 'FIPS', how = 'left')"
   ]
  },
  {
   "cell_type": "code",
   "execution_count": 20,
   "id": "instant-physiology",
   "metadata": {},
   "outputs": [],
   "source": [
    "## Loads file with corrections for weather FIPS code.\n",
    "weather_fip = pd.read_csv('weather_map.csv', dtype={'US State FIPS Code': 'string', \"Weather\": \"string\"})"
   ]
  },
  {
   "cell_type": "code",
   "execution_count": 21,
   "id": "rotary-orlando",
   "metadata": {},
   "outputs": [],
   "source": [
    "## Select columns\n",
    "weather_fip = weather_fip[['US State FIPS Code', 'Weather']]"
   ]
  },
  {
   "cell_type": "code",
   "execution_count": 22,
   "id": "imported-nursery",
   "metadata": {},
   "outputs": [],
   "source": [
    "## Rename columnes\n",
    "weather_fip = weather_fip.rename(columns = {\"US State FIPS Code\":\"FIPS\", \"Weather\":\"State_Code\"})"
   ]
  },
  {
   "cell_type": "code",
   "execution_count": 23,
   "id": "powerful-limit",
   "metadata": {},
   "outputs": [],
   "source": [
    "## Merge df\n",
    "df = df.merge(weather_fip, on = \"State_Code\", how = 'left')"
   ]
  },
  {
   "cell_type": "code",
   "execution_count": 24,
   "id": "postal-journalism",
   "metadata": {},
   "outputs": [],
   "source": [
    "df['FIPS'] = df['FIPS_y'] + df['FIPS_x'].str[2:]"
   ]
  },
  {
   "cell_type": "code",
   "execution_count": 26,
   "id": "elegant-representative",
   "metadata": {},
   "outputs": [],
   "source": [
    "## merge county map\n",
    "combined = df.merge(county_map, on = 'FIPS', how = 'left')"
   ]
  },
  {
   "cell_type": "code",
   "execution_count": 27,
   "id": "nearby-restriction",
   "metadata": {},
   "outputs": [],
   "source": [
    "## Remove columns\n",
    "combined = combined.drop(['FIPS_x', 'FIPS_y', 'State_Code'], axis = 1)"
   ]
  },
  {
   "cell_type": "code",
   "execution_count": null,
   "id": "computational-injection",
   "metadata": {},
   "outputs": [],
   "source": [
    "combined.to_csv(\"county_max_temps2.csv\")"
   ]
  },
  {
   "cell_type": "code",
   "execution_count": null,
   "id": "designing-influence",
   "metadata": {},
   "outputs": [],
   "source": []
  }
 ],
 "metadata": {
  "kernelspec": {
   "display_name": "Python 3",
   "language": "python",
   "name": "python3"
  },
  "language_info": {
   "codemirror_mode": {
    "name": "ipython",
    "version": 3
   },
   "file_extension": ".py",
   "mimetype": "text/x-python",
   "name": "python",
   "nbconvert_exporter": "python",
   "pygments_lexer": "ipython3",
   "version": "3.8.8"
  }
 },
 "nbformat": 4,
 "nbformat_minor": 5
}
