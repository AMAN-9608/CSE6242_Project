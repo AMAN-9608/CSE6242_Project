{
 "cells": [
  {
   "cell_type": "code",
   "execution_count": 1,
   "id": "fatty-leone",
   "metadata": {},
   "outputs": [
    {
     "name": "stderr",
     "output_type": "stream",
     "text": [
      "<ipython-input-1-878b61d2ea0c>:5: FutureWarning: The pandas.datetime class is deprecated and will be removed from pandas in a future version. Import from datetime module instead.\n",
      "  from pandas import datetime\n"
     ]
    }
   ],
   "source": [
    "import pandas as pd\n",
    "import numpy as np\n",
    "from statsmodels.tsa.arima.model import ARIMA\n",
    "from matplotlib import pyplot\n",
    "from pandas import datetime"
   ]
  },
  {
   "cell_type": "code",
   "execution_count": 2,
   "id": "stable-taylor",
   "metadata": {},
   "outputs": [],
   "source": [
    "## State income data can be found https://www2.census.gov/programs-surveys/cps/tables/time-series/historical-income-households/h08.xlsx"
   ]
  },
  {
   "cell_type": "code",
   "execution_count": 3,
   "id": "ruled-gardening",
   "metadata": {},
   "outputs": [],
   "source": [
    "## File requires minor cleaning prior to use.\n",
    "data = pd.read_csv(\"state_income.csv\")\n"
   ]
  },
  {
   "cell_type": "code",
   "execution_count": 4,
   "id": "soviet-marketing",
   "metadata": {
    "scrolled": true
   },
   "outputs": [],
   "source": [
    "## State abbreviation file\n",
    "abbrevs = pd.read_csv('name_list.csv')\n"
   ]
  },
  {
   "cell_type": "code",
   "execution_count": 5,
   "id": "awful-contrast",
   "metadata": {},
   "outputs": [],
   "source": [
    "## Merge to get abbreviations for each state\n",
    "data = data.merge(abbrevs, left_on = 'State', right_on = 'US STATE', how = 'left')"
   ]
  },
  {
   "cell_type": "code",
   "execution_count": 6,
   "id": "quick-reach",
   "metadata": {},
   "outputs": [],
   "source": [
    "## Drop\n",
    "data = data.drop(8, axis = 0)"
   ]
  },
  {
   "cell_type": "code",
   "execution_count": 7,
   "id": "characteristic-sewing",
   "metadata": {},
   "outputs": [],
   "source": [
    "## Transform data\n",
    "data= pd.melt(data,id_vars = 'ABBREVIATION', var_name = 'Year')\n",
    "data1 = data.pivot(index = 'Year',columns = 'ABBREVIATION')\n",
    "data1 = data1['value']\n"
   ]
  },
  {
   "cell_type": "code",
   "execution_count": 8,
   "id": "floppy-council",
   "metadata": {},
   "outputs": [],
   "source": [
    "## Drop values\n",
    "data1 = data1.drop(['State', 'US STATE'], axis = 0)"
   ]
  },
  {
   "cell_type": "code",
   "execution_count": 9,
   "id": "pending-russian",
   "metadata": {},
   "outputs": [],
   "source": [
    "## Exclude rows\n",
    "data = data[data['Year'] != 'State']\n",
    "data = data[data['Year'] != 'US STATE']"
   ]
  },
  {
   "cell_type": "code",
   "execution_count": 11,
   "id": "french-tumor",
   "metadata": {},
   "outputs": [],
   "source": [
    "## Convert index to year format.\n",
    "data1.index = pd.to_datetime(data1.index, format='%Y')"
   ]
  },
  {
   "cell_type": "code",
   "execution_count": 12,
   "id": "fiscal-laugh",
   "metadata": {
    "scrolled": true
   },
   "outputs": [],
   "source": [
    "## Create list of states.\n",
    "data = data.sort_values(by = \"Year\")\n",
    "list_states = list(set(data['ABBREVIATION']))"
   ]
  },
  {
   "cell_type": "code",
   "execution_count": 13,
   "id": "electoral-single",
   "metadata": {},
   "outputs": [
    {
     "name": "stdout",
     "output_type": "stream",
     "text": [
      "MN\n"
     ]
    },
    {
     "name": "stderr",
     "output_type": "stream",
     "text": [
      "C:\\Users\\pjh00\\miniconda3\\lib\\site-packages\\statsmodels\\tsa\\statespace\\sarimax.py:978: UserWarning: Non-invertible starting MA parameters found. Using zeros as starting parameters.\n",
      "  warn('Non-invertible starting MA parameters found.'\n",
      "C:\\Users\\pjh00\\miniconda3\\lib\\site-packages\\statsmodels\\base\\model.py:566: ConvergenceWarning: Maximum Likelihood optimization failed to converge. Check mle_retvals\n",
      "  warnings.warn(\"Maximum Likelihood optimization failed to \"\n",
      "C:\\Users\\pjh00\\miniconda3\\lib\\site-packages\\statsmodels\\tsa\\statespace\\sarimax.py:966: UserWarning: Non-stationary starting autoregressive parameters found. Using zeros as starting parameters.\n",
      "  warn('Non-stationary starting autoregressive parameters'\n",
      "C:\\Users\\pjh00\\miniconda3\\lib\\site-packages\\statsmodels\\base\\model.py:566: ConvergenceWarning: Maximum Likelihood optimization failed to converge. Check mle_retvals\n",
      "  warnings.warn(\"Maximum Likelihood optimization failed to \"\n"
     ]
    }
   ],
   "source": [
    "## Create dataframe for appending predictions.\n",
    "final = pd.DataFrame()\n",
    "\n",
    "## Loop through all states.\n",
    "for state in list_states:\n",
    "    filtered = data1[state].copy()\n",
    "\n",
    "    filtered.index = filtered.index.to_period('Y')\n",
    "    filtered = filtered.astype('int')\n",
    "    \n",
    "    ## Initialize values for ARIMA parameters.\n",
    "    p1 = 4\n",
    "    d1 = 1\n",
    "    q1 = 4\n",
    "    \n",
    "    ## Create list to store AIC values.\n",
    "    list_aic = np.empty((p1,d1,q1))\n",
    "    \n",
    "    ## Loop through parameter values and store AIC.\n",
    "    for p in range(p1):\n",
    "        for d in range(d1):\n",
    "            for q in range(q1):\n",
    "                model = ARIMA(filtered, order=(p,d,q))\n",
    "                model_fit = model.fit()\n",
    "                list_aic[p,d,q] = model_fit.aic\n",
    "    \n",
    "    ## Find parameters which minimize AIC\n",
    "    list_aic1 = list_aic.flatten()\n",
    "    index = np.where(list_aic1 == np.amin(list_aic1))[0][0]\n",
    "    \n",
    "    opt_q = index % q1\n",
    "    opt_d = (index % q1*d1) // q1\n",
    "    opt_p = index // d1*q1\n",
    "    \n",
    "    ## Create optimal ARIMA model\n",
    "    optimal = ARIMA(filtered, order = (opt_p, opt_d, opt_q))\n",
    "    optimal_fit = optimal.fit()\n",
    "    \n",
    "    ## Store output in final dataframe.\n",
    "    output = pd.DataFrame(filtered.copy())\n",
    "    addition = pd.DataFrame(optimal_fit.forecast(steps = 5)).rename(columns = {'predicted_mean':state})\n",
    "    output = output.append(addition)\n",
    "    output['State'] = state\n",
    "    final = final.append(output)\n"
   ]
  },
  {
   "cell_type": "code",
   "execution_count": 14,
   "id": "subjective-machine",
   "metadata": {},
   "outputs": [],
   "source": [
    "final = final.reset_index()"
   ]
  },
  {
   "cell_type": "code",
   "execution_count": 15,
   "id": "mounted-engineer",
   "metadata": {},
   "outputs": [],
   "source": [
    "## Pivot and store resulting file as CSV.\n",
    "final = final.pivot(index = 'index', columns = 'State').reset_index()\n",
    "final.to_csv('income_proj_train.csv', index=False)"
   ]
  }
 ],
 "metadata": {
  "kernelspec": {
   "display_name": "Python 3",
   "language": "python",
   "name": "python3"
  },
  "language_info": {
   "codemirror_mode": {
    "name": "ipython",
    "version": 3
   },
   "file_extension": ".py",
   "mimetype": "text/x-python",
   "name": "python",
   "nbconvert_exporter": "python",
   "pygments_lexer": "ipython3",
   "version": "3.8.8"
  }
 },
 "nbformat": 4,
 "nbformat_minor": 5
}
